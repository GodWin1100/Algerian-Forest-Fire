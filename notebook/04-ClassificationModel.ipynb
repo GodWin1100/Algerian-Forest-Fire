{
 "cells": [
  {
   "cell_type": "markdown",
   "metadata": {},
   "source": [
    "# Classification\n",
    "\n",
    "**MODELS**\n",
    "\n",
    "1. Logistic\n",
    "2. K-Nearest Neighbor\n",
    "3. SVC\n",
    "4. Naive Bayes\n",
    "5. Decision Tree\n",
    "6. Random Forest\n",
    "7. AdaBoost\n",
    "8. XGBoost\n",
    "9. CATBoost\n",
    "\n",
    "USING\n",
    "\n",
    "- Robust Scaler\n",
    "- One Hot Encoder\n",
    "- Ordinal Encoder (for `month` need to convert to `str` as `OrdinalEncoder` does not allow sequence for `numeric` type)\n",
    "- Label Encoder\n",
    "- Column Transformer\n",
    "- Pipeline\n",
    "- GridSearchCV\n",
    "- metrics (recall- as predicting fire as not-fire has more negative effect)\n",
    "\n",
    "NOTE\n",
    "\n",
    "- For using `sklearn.Pipeline` we can add all scalers, encoders and finally model.\n"
   ]
  },
  {
   "cell_type": "markdown",
   "metadata": {},
   "source": [
    "[CATBOOST](https://catboost.ai)\n",
    "\n",
    "- CatBoost builds upon the theory of decision trees and gradient boosting.\n",
    "- CatBoost grows [oblivious trees](https://en.wikipedia.org/wiki/Oblivious_data_structure#Oblivious_Tree), which means that the trees are grown by imposing the rule that all nodes at the same level, test the same predictor with the same condition, and hence an index of a leaf can be calculated with bitwise operations.\n",
    "- The oblivious tree procedure allows for a simple fitting scheme and efficiency on CPUs, while the tree structure operates as a regularization to find an optimal solution and avoid overfitting.\n",
    "\n",
    "References\n",
    "\n",
    "- https://dataaspirant.com/catboost-algorithm/#t-1609567161983\n",
    "- https://towardsdatascience.com/catboost-regression-in-6-minutes-3487f3e5b329\n",
    "- https://www.geeksforgeeks.org/catboost-ml/\n"
   ]
  },
  {
   "cell_type": "markdown",
   "metadata": {},
   "source": [
    "# Importing Libraries\n"
   ]
  },
  {
   "cell_type": "markdown",
   "metadata": {},
   "source": [
    "## General Libraries\n"
   ]
  },
  {
   "cell_type": "code",
   "execution_count": 1,
   "metadata": {},
   "outputs": [],
   "source": [
    "import pandas as pd\n",
    "import numpy as np\n",
    "from matplotlib import pyplot as plt\n",
    "import seaborn as sns\n",
    "import warnings\n",
    "\n",
    "sns.set_theme(style=\"darkgrid\", font_scale=1.4)\n",
    "warnings.filterwarnings(\"ignore\")\n"
   ]
  },
  {
   "cell_type": "markdown",
   "metadata": {},
   "source": [
    "## Miscellaneous Libraries\n"
   ]
  },
  {
   "cell_type": "code",
   "execution_count": 2,
   "metadata": {},
   "outputs": [],
   "source": [
    "from sklearn.preprocessing import OrdinalEncoder, OneHotEncoder, RobustScaler, LabelEncoder\n",
    "from sklearn.model_selection import GridSearchCV\n",
    "from sklearn.compose import ColumnTransformer\n",
    "from sklearn.pipeline import Pipeline\n",
    "from sklearn.metrics import (\n",
    "    confusion_matrix,\n",
    "    classification_report,\n",
    "    accuracy_score,\n",
    "    recall_score,\n",
    "    f1_score,\n",
    "    roc_auc_score,\n",
    "    roc_curve,\n",
    ")\n"
   ]
  },
  {
   "cell_type": "markdown",
   "metadata": {},
   "source": [
    "## Model Libraries\n"
   ]
  },
  {
   "cell_type": "code",
   "execution_count": 3,
   "metadata": {},
   "outputs": [],
   "source": [
    "from sklearn.linear_model import LogisticRegression  # // can use CV but not using due to GridSearchCV approach\n",
    "from sklearn.neighbors import KNeighborsClassifier\n",
    "from sklearn.svm import SVC\n",
    "from sklearn.naive_bayes import GaussianNB\n",
    "from sklearn.tree import DecisionTreeClassifier\n",
    "from sklearn.ensemble import RandomForestClassifier, AdaBoostClassifier\n",
    "from xgboost import XGBClassifier\n",
    "from catboost import CatBoostClassifier\n"
   ]
  },
  {
   "cell_type": "markdown",
   "metadata": {},
   "source": [
    "# Importing Dataset\n"
   ]
  },
  {
   "cell_type": "code",
   "execution_count": 4,
   "metadata": {},
   "outputs": [],
   "source": [
    "train_data = pd.read_csv(\"./../data/final_data/classification_train.csv\")\n",
    "test_data = pd.read_csv(\"./../data/final_data/classification_test.csv\")\n"
   ]
  },
  {
   "cell_type": "code",
   "execution_count": 5,
   "metadata": {},
   "outputs": [],
   "source": [
    "X_train = train_data.iloc[:, :-1]\n",
    "y_train = train_data.iloc[:, -1]\n",
    "X_test = test_data.iloc[:, :-1]\n",
    "y_test = test_data.iloc[:, -1]\n"
   ]
  },
  {
   "cell_type": "code",
   "execution_count": 6,
   "metadata": {},
   "outputs": [
    {
     "data": {
      "text/html": [
       "<div>\n",
       "<style scoped>\n",
       "    .dataframe tbody tr th:only-of-type {\n",
       "        vertical-align: middle;\n",
       "    }\n",
       "\n",
       "    .dataframe tbody tr th {\n",
       "        vertical-align: top;\n",
       "    }\n",
       "\n",
       "    .dataframe thead th {\n",
       "        text-align: right;\n",
       "    }\n",
       "</style>\n",
       "<table border=\"1\" class=\"dataframe\">\n",
       "  <thead>\n",
       "    <tr style=\"text-align: right;\">\n",
       "      <th></th>\n",
       "      <th>day</th>\n",
       "      <th>month</th>\n",
       "      <th>Temperature</th>\n",
       "      <th>RH</th>\n",
       "      <th>Ws</th>\n",
       "      <th>Rain</th>\n",
       "      <th>FFMC</th>\n",
       "      <th>DMC</th>\n",
       "      <th>DC</th>\n",
       "      <th>ISI</th>\n",
       "      <th>Region</th>\n",
       "    </tr>\n",
       "  </thead>\n",
       "  <tbody>\n",
       "    <tr>\n",
       "      <th>0</th>\n",
       "      <td>8</td>\n",
       "      <td>Jun</td>\n",
       "      <td>30</td>\n",
       "      <td>73</td>\n",
       "      <td>15</td>\n",
       "      <td>0.0</td>\n",
       "      <td>86.6</td>\n",
       "      <td>12.1</td>\n",
       "      <td>38.3</td>\n",
       "      <td>5.6</td>\n",
       "      <td>Bejaia</td>\n",
       "    </tr>\n",
       "    <tr>\n",
       "      <th>1</th>\n",
       "      <td>13</td>\n",
       "      <td>Aug</td>\n",
       "      <td>35</td>\n",
       "      <td>63</td>\n",
       "      <td>15</td>\n",
       "      <td>0.0</td>\n",
       "      <td>87.0</td>\n",
       "      <td>19.0</td>\n",
       "      <td>85.1</td>\n",
       "      <td>5.9</td>\n",
       "      <td>Bejaia</td>\n",
       "    </tr>\n",
       "    <tr>\n",
       "      <th>2</th>\n",
       "      <td>14</td>\n",
       "      <td>Jul</td>\n",
       "      <td>37</td>\n",
       "      <td>37</td>\n",
       "      <td>18</td>\n",
       "      <td>0.2</td>\n",
       "      <td>88.9</td>\n",
       "      <td>12.9</td>\n",
       "      <td>14.6</td>\n",
       "      <td>9.0</td>\n",
       "      <td>Sidi-Bel Abbes</td>\n",
       "    </tr>\n",
       "    <tr>\n",
       "      <th>3</th>\n",
       "      <td>27</td>\n",
       "      <td>Jul</td>\n",
       "      <td>36</td>\n",
       "      <td>48</td>\n",
       "      <td>13</td>\n",
       "      <td>0.0</td>\n",
       "      <td>90.3</td>\n",
       "      <td>22.2</td>\n",
       "      <td>108.5</td>\n",
       "      <td>8.7</td>\n",
       "      <td>Bejaia</td>\n",
       "    </tr>\n",
       "    <tr>\n",
       "      <th>4</th>\n",
       "      <td>24</td>\n",
       "      <td>Sep</td>\n",
       "      <td>29</td>\n",
       "      <td>65</td>\n",
       "      <td>19</td>\n",
       "      <td>0.6</td>\n",
       "      <td>68.3</td>\n",
       "      <td>5.5</td>\n",
       "      <td>15.2</td>\n",
       "      <td>1.5</td>\n",
       "      <td>Bejaia</td>\n",
       "    </tr>\n",
       "  </tbody>\n",
       "</table>\n",
       "</div>"
      ],
      "text/plain": [
       "   day month  Temperature  RH  Ws  Rain  FFMC   DMC     DC  ISI  \\\n",
       "0    8   Jun           30  73  15   0.0  86.6  12.1   38.3  5.6   \n",
       "1   13   Aug           35  63  15   0.0  87.0  19.0   85.1  5.9   \n",
       "2   14   Jul           37  37  18   0.2  88.9  12.9   14.6  9.0   \n",
       "3   27   Jul           36  48  13   0.0  90.3  22.2  108.5  8.7   \n",
       "4   24   Sep           29  65  19   0.6  68.3   5.5   15.2  1.5   \n",
       "\n",
       "           Region  \n",
       "0          Bejaia  \n",
       "1          Bejaia  \n",
       "2  Sidi-Bel Abbes  \n",
       "3          Bejaia  \n",
       "4          Bejaia  "
      ]
     },
     "execution_count": 6,
     "metadata": {},
     "output_type": "execute_result"
    }
   ],
   "source": [
    "X_train.head()\n"
   ]
  },
  {
   "cell_type": "code",
   "execution_count": 7,
   "metadata": {},
   "outputs": [
    {
     "data": {
      "text/plain": [
       "0        fire\n",
       "1        fire\n",
       "2        fire\n",
       "3        fire\n",
       "4    not fire\n",
       "Name: Classes, dtype: object"
      ]
     },
     "execution_count": 7,
     "metadata": {},
     "output_type": "execute_result"
    }
   ],
   "source": [
    "y_train.head()\n"
   ]
  },
  {
   "cell_type": "markdown",
   "metadata": {},
   "source": [
    "# Label Encoder\n"
   ]
  },
  {
   "cell_type": "code",
   "execution_count": 8,
   "metadata": {},
   "outputs": [
    {
     "data": {
      "text/plain": [
       "array(['fire', 'not fire'], dtype=object)"
      ]
     },
     "execution_count": 8,
     "metadata": {},
     "output_type": "execute_result"
    }
   ],
   "source": [
    "label_encoder = LabelEncoder()\n",
    "y_train_encoder = label_encoder.fit_transform(y_train)\n",
    "y_test_encoder = label_encoder.transform(y_test)\n",
    "\n",
    "label_encoder.classes_\n"
   ]
  },
  {
   "cell_type": "code",
   "execution_count": 9,
   "metadata": {},
   "outputs": [],
   "source": [
    "y_train = y_train.map({\"not fire\": 0, \"fire\": 1})\n",
    "y_test = y_test.map({\"not fire\": 0, \"fire\": 1})\n"
   ]
  },
  {
   "cell_type": "markdown",
   "metadata": {},
   "source": [
    "# Model Evaluator\n"
   ]
  },
  {
   "cell_type": "code",
   "execution_count": 10,
   "metadata": {},
   "outputs": [],
   "source": [
    "transformer = ColumnTransformer(\n",
    "    transformers=[\n",
    "        (\"robust_scaler\", RobustScaler(), [2, 3, 4, 5, 6, 7, 8, 9]),\n",
    "        (\"ohe_day\", OneHotEncoder(sparse=False, drop=\"first\"), [0]),\n",
    "        (\"ord_month\", OrdinalEncoder(categories=[[\"Sep\", \"Jun\", \"Jul\", \"Aug\"]]), [1]),\n",
    "        (\"ohe_binary\", OneHotEncoder(sparse=False, drop=\"if_binary\"), [-1]),\n",
    "    ],\n",
    "    remainder=\"passthrough\",\n",
    ")\n",
    "\n",
    "\n",
    "class ModelEvaluate:\n",
    "    __model_names = []\n",
    "    __model_report = []\n",
    "\n",
    "    def __init__(self, model_obj, model_name: str):\n",
    "        self.__unique_model_name(model_name)\n",
    "        self.model_obj = model_obj\n",
    "        self.model_name = model_name\n",
    "        self.transformers = transformer\n",
    "        self.gscv = None\n",
    "        self.pipe = None\n",
    "\n",
    "    def initialize_gscv(\n",
    "        self, params, *, scoring=\"accuracy\", cv=5\n",
    "    ):  # final selection will be using recall as False Negative can have greater effect\n",
    "        self.gscv = GridSearchCV(\n",
    "            self.model_obj, param_grid=params, scoring=scoring, cv=cv, verbose=1\n",
    "        )  # refit is true as we want to see Confusion Matrix from x_test prediction\n",
    "\n",
    "    def initialize_pipeline(self):\n",
    "        # Not all Model requires scaling\n",
    "        self.pipe = Pipeline(steps=[(\"Transformers\", self.transformers), (\"gscv\", self.gscv)])\n",
    "\n",
    "    def fit_pipeline(self, X, y):\n",
    "        self.pipe.fit(X, y)\n",
    "        self.__model_report.append(\n",
    "            {\"Model Name\": self.model_name, \"Training Score (accuracy)\": self.pipe.named_steps[\"gscv\"].best_score_}\n",
    "        )\n",
    "        return self.get_best()\n",
    "\n",
    "    def get_best(self):\n",
    "        return {\"score\": self.pipe.named_steps[\"gscv\"].best_score_, \"param\": self.pipe.named_steps[\"gscv\"].best_params_}\n",
    "\n",
    "    def get_cm(self, test_data, true_data):\n",
    "        pred_data = self.pipe.predict(test_data)\n",
    "        cm = confusion_matrix(true_data, pred_data)\n",
    "        fig, ax = plt.subplots(1, 1, figsize=(6, 6))\n",
    "        fig.suptitle(f\"Confusion Matrix: {self.model_name}\")\n",
    "        ax.set_title(f\"F1 Score: {f1_score(true_data,pred_data):.2f}\")\n",
    "        cm_plot = sns.heatmap(\n",
    "            cm,\n",
    "            ax=ax,\n",
    "            cbar=False,\n",
    "            cmap=\"YlOrRd\",\n",
    "            annot=True,\n",
    "            xticklabels=[\"not fire\", \"fire\"],\n",
    "            yticklabels=[\"not fire\", \"fire\"],\n",
    "            # xticklabels=label_encoder.classes_,\n",
    "            # yticklabels=label_encoder.classes_,\n",
    "        )\n",
    "        ax.set_xlabel(\"Predicted Values\")\n",
    "        ax.set_ylabel(\"Actual Values\")\n",
    "        self.__model_report[self.__model_names.index(self.model_name)][\"Testing Recall\"] = recall_score(\n",
    "            true_data, pred_data\n",
    "        )\n",
    "        self.__model_report[self.__model_names.index(self.model_name)][\"Testing Accuracy\"] = accuracy_score(\n",
    "            true_data, pred_data\n",
    "        )\n",
    "        return cm_plot\n",
    "\n",
    "    def get_model_report(self, test_data, true_data):\n",
    "        return classification_report(self.pipe.predict(test_data), true_data)\n",
    "\n",
    "    def __unique_model_name(self, model_name: str):\n",
    "        if model_name in self.__model_names:\n",
    "            raise Exception(f\"{model_name} already exists. model_name should be unique.\")\n",
    "        self.__model_names.append(model_name)\n",
    "\n",
    "    @staticmethod\n",
    "    def get_model_names():\n",
    "        return ModelEvaluate.__model_names\n",
    "\n",
    "    @staticmethod\n",
    "    def get_models_report():\n",
    "        if ModelEvaluate.__model_report:\n",
    "            return pd.DataFrame(ModelEvaluate.__model_report)\n",
    "        return \"No Model Evaluated\"\n"
   ]
  },
  {
   "cell_type": "markdown",
   "metadata": {},
   "source": [
    "## Logistic Regression\n"
   ]
  },
  {
   "cell_type": "code",
   "execution_count": 11,
   "metadata": {},
   "outputs": [
    {
     "name": "stdout",
     "output_type": "stream",
     "text": [
      "--------------------------PIPELINE--------------------------\n",
      "Fitting 5 folds for each of 480 candidates, totalling 2400 fits\n",
      "{'score': 0.9692307692307691, 'param': {'C': 1, 'l1_ratio': None, 'max_iter': 50, 'penalty': 'l2', 'random_state': 48, 'solver': 'lbfgs'}}\n",
      "----------------------CONFUSION MATRIX----------------------\n"
     ]
    },
    {
     "data": {
      "image/png": "[encoded data removed]",
      "text/plain": [
       "<Figure size 432x432 with 1 Axes>"
      ]
     },
     "metadata": {},
     "output_type": "display_data"
    },
    {
     "name": "stdout",
     "output_type": "stream",
     "text": [
      "-------------------CLASSIFICATION REPORT--------------------\n",
      "              precision    recall  f1-score   support\n",
      "\n",
      "           0       0.73      1.00      0.84        16\n",
      "           1       1.00      0.82      0.90        33\n",
      "\n",
      "    accuracy                           0.88        49\n",
      "   macro avg       0.86      0.91      0.87        49\n",
      "weighted avg       0.91      0.88      0.88        49\n",
      "\n"
     ]
    }
   ],
   "source": [
    "logistic_param = {\n",
    "    \"penalty\": [\"l2\", \"elasticnet\"],\n",
    "    \"C\": [0.4, 0.8, 1, 1.5, 2],\n",
    "    \"solver\": [\"lbfgs\", \"liblinear\"],\n",
    "    \"max_iter\": [50, 100, 200],\n",
    "    \"l1_ratio\": [None, 0.4, 0.6, 0.8],\n",
    "    \"random_state\": [48, 64],\n",
    "}\n",
    "logistic_classifier = ModelEvaluate(LogisticRegression(), \"logistic classification\")\n",
    "logistic_classifier.initialize_gscv(logistic_param)\n",
    "logistic_classifier.initialize_pipeline()\n",
    "print(\"PIPELINE\".center(60, \"-\"))\n",
    "print(logistic_classifier.fit_pipeline(X_train, y_train))\n",
    "logistic_classifier.get_cm(X_test, y_test)\n",
    "print(\"CONFUSION MATRIX\".center(60, \"-\"))\n",
    "plt.show()\n",
    "print(\"CLASSIFICATION REPORT\".center(60, \"-\"))\n",
    "print(logistic_classifier.get_model_report(X_test, y_test))\n"
   ]
  },
  {
   "cell_type": "markdown",
   "metadata": {},
   "source": [
    "## K-Nearest Neighbor (KNN)\n"
   ]
  },
  {
   "cell_type": "code",
   "execution_count": 12,
   "metadata": {},
   "outputs": [
    {
     "name": "stdout",
     "output_type": "stream",
     "text": [
      "--------------------------PIPELINE--------------------------\n",
      "Fitting 5 folds for each of 16 candidates, totalling 80 fits\n",
      "{'score': 0.9333333333333333, 'param': {'algorithm': 'auto', 'n_neighbors': 7, 'p': 1}}\n",
      "----------------------CONFUSION MATRIX----------------------\n"
     ]
    },
    {
     "data": {
      "image/png": "[encoded data removed]",
      "text/plain": [
       "<Figure size 432x432 with 1 Axes>"
      ]
     },
     "metadata": {},
     "output_type": "display_data"
    },
    {
     "name": "stdout",
     "output_type": "stream",
     "text": [
      "-------------------CLASSIFICATION REPORT--------------------\n",
      "              precision    recall  f1-score   support\n",
      "\n",
      "           0       0.64      1.00      0.78        14\n",
      "           1       1.00      0.77      0.87        35\n",
      "\n",
      "    accuracy                           0.84        49\n",
      "   macro avg       0.82      0.89      0.82        49\n",
      "weighted avg       0.90      0.84      0.84        49\n",
      "\n"
     ]
    }
   ],
   "source": [
    "knn_param = {\"n_neighbors\": [5, 7, 9, 11], \"algorithm\": [\"auto\", \"ball_tree\"], \"p\": [1, 2]}\n",
    "knn_classifier = ModelEvaluate(KNeighborsClassifier(), \"knn classification\")\n",
    "knn_classifier.initialize_gscv(knn_param)\n",
    "knn_classifier.initialize_pipeline()\n",
    "print(\"PIPELINE\".center(60, \"-\"))\n",
    "print(knn_classifier.fit_pipeline(X_train, y_train))\n",
    "knn_classifier.get_cm(X_test, y_test)\n",
    "print(\"CONFUSION MATRIX\".center(60, \"-\"))\n",
    "plt.show()\n",
    "print(\"CLASSIFICATION REPORT\".center(60, \"-\"))\n",
    "print(knn_classifier.get_model_report(X_test, y_test))\n"
   ]
  },
  {
   "cell_type": "markdown",
   "metadata": {},
   "source": [
    "## Support Vector Classifier\n"
   ]
  },
  {
   "cell_type": "code",
   "execution_count": 13,
   "metadata": {},
   "outputs": [
    {
     "name": "stdout",
     "output_type": "stream",
     "text": [
      "--------------------------PIPELINE--------------------------\n",
      "Fitting 5 folds for each of 44 candidates, totalling 220 fits\n",
      "{'score': 0.9538461538461538, 'param': {'C': 5, 'kernel': 'sigmoid', 'random_state': 48}}\n",
      "----------------------CONFUSION MATRIX----------------------\n"
     ]
    },
    {
     "data": {
      "image/png": "[encoded data removed]",
      "text/plain": [
       "<Figure size 432x432 with 1 Axes>"
      ]
     },
     "metadata": {},
     "output_type": "display_data"
    },
    {
     "name": "stdout",
     "output_type": "stream",
     "text": [
      "-------------------CLASSIFICATION REPORT--------------------\n",
      "              precision    recall  f1-score   support\n",
      "\n",
      "           0       0.73      1.00      0.84        16\n",
      "           1       1.00      0.82      0.90        33\n",
      "\n",
      "    accuracy                           0.88        49\n",
      "   macro avg       0.86      0.91      0.87        49\n",
      "weighted avg       0.91      0.88      0.88        49\n",
      "\n"
     ]
    }
   ],
   "source": [
    "scv_param = {\n",
    "    \"C\": [0.01, 0.05, 0.1, 0.4, 0.8, 1, 1.5, 2, 5, 6, 9],\n",
    "    \"kernel\": [\"sigmoid\", \"rbf\"],\n",
    "    \"random_state\": [48, 64],\n",
    "}\n",
    "scv_classifier = ModelEvaluate(SVC(), \"scv classification\")\n",
    "scv_classifier.initialize_gscv(scv_param)\n",
    "scv_classifier.initialize_pipeline()\n",
    "print(\"PIPELINE\".center(60, \"-\"))\n",
    "print(scv_classifier.fit_pipeline(X_train, y_train))\n",
    "scv_classifier.get_cm(X_test, y_test)\n",
    "print(\"CONFUSION MATRIX\".center(60, \"-\"))\n",
    "plt.show()\n",
    "print(\"CLASSIFICATION REPORT\".center(60, \"-\"))\n",
    "print(scv_classifier.get_model_report(X_test, y_test))\n"
   ]
  },
  {
   "cell_type": "markdown",
   "metadata": {},
   "source": [
    "## Naive Bayes\n"
   ]
  },
  {
   "cell_type": "code",
   "execution_count": 14,
   "metadata": {},
   "outputs": [
    {
     "name": "stdout",
     "output_type": "stream",
     "text": [
      "--------------------------PIPELINE--------------------------\n",
      "Fitting 5 folds for each of 1 candidates, totalling 5 fits\n",
      "{'score': 0.7794871794871796, 'param': {}}\n",
      "----------------------CONFUSION MATRIX----------------------\n"
     ]
    },
    {
     "data": {
      "image/png": "[encoded data removed]",
      "text/plain": [
       "<Figure size 432x432 with 1 Axes>"
      ]
     },
     "metadata": {},
     "output_type": "display_data"
    },
    {
     "name": "stdout",
     "output_type": "stream",
     "text": [
      "-------------------CLASSIFICATION REPORT--------------------\n",
      "              precision    recall  f1-score   support\n",
      "\n",
      "           0       0.77      0.81      0.79        21\n",
      "           1       0.85      0.82      0.84        28\n",
      "\n",
      "    accuracy                           0.82        49\n",
      "   macro avg       0.81      0.82      0.81        49\n",
      "weighted avg       0.82      0.82      0.82        49\n",
      "\n"
     ]
    }
   ],
   "source": [
    "naive_bayes_param = {}\n",
    "naive_bayes_classifier = ModelEvaluate(GaussianNB(), \"naive bayes classification\")\n",
    "naive_bayes_classifier.initialize_gscv(naive_bayes_param)\n",
    "naive_bayes_classifier.initialize_pipeline()\n",
    "print(\"PIPELINE\".center(60, \"-\"))\n",
    "print(naive_bayes_classifier.fit_pipeline(X_train, y_train))\n",
    "naive_bayes_classifier.get_cm(X_test, y_test)\n",
    "print(\"CONFUSION MATRIX\".center(60, \"-\"))\n",
    "plt.show()\n",
    "print(\"CLASSIFICATION REPORT\".center(60, \"-\"))\n",
    "print(naive_bayes_classifier.get_model_report(X_test, y_test))\n"
   ]
  },
  {
   "cell_type": "markdown",
   "metadata": {},
   "source": [
    "## Decision Tree\n"
   ]
  },
  {
   "cell_type": "code",
   "execution_count": 15,
   "metadata": {},
   "outputs": [
    {
     "name": "stdout",
     "output_type": "stream",
     "text": [
      "--------------------------PIPELINE--------------------------\n",
      "Fitting 5 folds for each of 48 candidates, totalling 240 fits\n",
      "{'score': 0.9897435897435898, 'param': {'criterion': 'gini', 'max_depth': None, 'max_features': 'sqrt', 'random_state': 48}}\n",
      "----------------------CONFUSION MATRIX----------------------\n"
     ]
    },
    {
     "data": {
      "image/png": "[encoded data removed]",
      "text/plain": [
       "<Figure size 432x432 with 1 Axes>"
      ]
     },
     "metadata": {},
     "output_type": "display_data"
    },
    {
     "name": "stdout",
     "output_type": "stream",
     "text": [
      "-------------------CLASSIFICATION REPORT--------------------\n",
      "              precision    recall  f1-score   support\n",
      "\n",
      "           0       0.91      1.00      0.95        20\n",
      "           1       1.00      0.93      0.96        29\n",
      "\n",
      "    accuracy                           0.96        49\n",
      "   macro avg       0.95      0.97      0.96        49\n",
      "weighted avg       0.96      0.96      0.96        49\n",
      "\n"
     ]
    }
   ],
   "source": [
    "decision_tree_param = {\n",
    "    \"criterion\": [\"gini\", \"entropy\"],\n",
    "    \"max_depth\": [None, 2, 4, 5],\n",
    "    \"max_features\": [None, \"sqrt\", \"log2\"],\n",
    "    \"random_state\": [48, 64],\n",
    "}  # gini has better output compare to entropy in most of the cases and difference would be 1-5%\n",
    "decision_tree_classifier = ModelEvaluate(DecisionTreeClassifier(), \"decision tree classification\")\n",
    "decision_tree_classifier.initialize_gscv(decision_tree_param)\n",
    "decision_tree_classifier.initialize_pipeline()\n",
    "print(\"PIPELINE\".center(60, \"-\"))\n",
    "print(decision_tree_classifier.fit_pipeline(X_train, y_train))\n",
    "decision_tree_classifier.get_cm(X_test, y_test)\n",
    "print(\"CONFUSION MATRIX\".center(60, \"-\"))\n",
    "plt.show()\n",
    "print(\"CLASSIFICATION REPORT\".center(60, \"-\"))\n",
    "print(decision_tree_classifier.get_model_report(X_test, y_test))\n"
   ]
  },
  {
   "cell_type": "markdown",
   "metadata": {},
   "source": [
    "## Random Forest\n"
   ]
  },
  {
   "cell_type": "code",
   "execution_count": 16,
   "metadata": {},
   "outputs": [
    {
     "name": "stdout",
     "output_type": "stream",
     "text": [
      "--------------------------PIPELINE--------------------------\n",
      "Fitting 5 folds for each of 96 candidates, totalling 480 fits\n",
      "{'score': 0.9897435897435898, 'param': {'max_depth': 2, 'max_features': 'log2', 'n_estimators': 100, 'random_state': 64}}\n",
      "----------------------CONFUSION MATRIX----------------------\n"
     ]
    },
    {
     "data": {
      "image/png": "[encoded data removed]",
      "text/plain": [
       "<Figure size 432x432 with 1 Axes>"
      ]
     },
     "metadata": {},
     "output_type": "display_data"
    },
    {
     "name": "stdout",
     "output_type": "stream",
     "text": [
      "-------------------CLASSIFICATION REPORT--------------------\n",
      "              precision    recall  f1-score   support\n",
      "\n",
      "           0       0.82      1.00      0.90        18\n",
      "           1       1.00      0.87      0.93        31\n",
      "\n",
      "    accuracy                           0.92        49\n",
      "   macro avg       0.91      0.94      0.92        49\n",
      "weighted avg       0.93      0.92      0.92        49\n",
      "\n"
     ]
    }
   ],
   "source": [
    "random_forest_param = {\n",
    "    \"n_estimators\": [50, 100, 150, 200],\n",
    "    \"max_depth\": [None, 2, 4, 6],\n",
    "    \"max_features\": [None, \"sqrt\", \"log2\"],\n",
    "    \"random_state\": [48, 64],\n",
    "}\n",
    "random_forest_classifier = ModelEvaluate(RandomForestClassifier(), \"random forest classification\")\n",
    "random_forest_classifier.initialize_gscv(random_forest_param)\n",
    "random_forest_classifier.initialize_pipeline()\n",
    "print(\"PIPELINE\".center(60, \"-\"))\n",
    "print(random_forest_classifier.fit_pipeline(X_train, y_train))\n",
    "random_forest_classifier.get_cm(X_test, y_test)\n",
    "print(\"CONFUSION MATRIX\".center(60, \"-\"))\n",
    "plt.show()\n",
    "print(\"CLASSIFICATION REPORT\".center(60, \"-\"))\n",
    "print(random_forest_classifier.get_model_report(X_test, y_test))\n"
   ]
  },
  {
   "cell_type": "markdown",
   "metadata": {},
   "source": [
    "## AdaBoost\n"
   ]
  },
  {
   "cell_type": "code",
   "execution_count": 17,
   "metadata": {},
   "outputs": [
    {
     "name": "stdout",
     "output_type": "stream",
     "text": [
      "--------------------------PIPELINE--------------------------\n",
      "Fitting 5 folds for each of 48 candidates, totalling 240 fits\n",
      "{'score': 0.9794871794871796, 'param': {'learning_rate': 0.1, 'n_estimators': 50, 'random_state': 48}}\n",
      "----------------------CONFUSION MATRIX----------------------\n"
     ]
    },
    {
     "data": {
      "image/png": "[encoded data removed]",
      "text/plain": [
       "<Figure size 432x432 with 1 Axes>"
      ]
     },
     "metadata": {},
     "output_type": "display_data"
    },
    {
     "name": "stdout",
     "output_type": "stream",
     "text": [
      "-------------------CLASSIFICATION REPORT--------------------\n",
      "              precision    recall  f1-score   support\n",
      "\n",
      "           0       0.91      1.00      0.95        20\n",
      "           1       1.00      0.93      0.96        29\n",
      "\n",
      "    accuracy                           0.96        49\n",
      "   macro avg       0.95      0.97      0.96        49\n",
      "weighted avg       0.96      0.96      0.96        49\n",
      "\n"
     ]
    }
   ],
   "source": [
    "ada_boost_param = {\n",
    "    \"n_estimators\": [50, 100, 150, 200],\n",
    "    \"learning_rate\": [0.1, 0.3, 0.5, 0.8, 1, 1.2],\n",
    "    \"random_state\": [48, 64],\n",
    "}\n",
    "ada_boost_classifier = ModelEvaluate(AdaBoostClassifier(), \"ada boost classification\")\n",
    "ada_boost_classifier.initialize_gscv(ada_boost_param)\n",
    "ada_boost_classifier.initialize_pipeline()\n",
    "print(\"PIPELINE\".center(60, \"-\"))\n",
    "print(ada_boost_classifier.fit_pipeline(X_train, y_train))\n",
    "ada_boost_classifier.get_cm(X_test, y_test)\n",
    "print(\"CONFUSION MATRIX\".center(60, \"-\"))\n",
    "plt.show()\n",
    "print(\"CLASSIFICATION REPORT\".center(60, \"-\"))\n",
    "print(ada_boost_classifier.get_model_report(X_test, y_test))\n"
   ]
  },
  {
   "cell_type": "markdown",
   "metadata": {},
   "source": [
    "## XGBoost\n"
   ]
  },
  {
   "cell_type": "code",
   "execution_count": 18,
   "metadata": {},
   "outputs": [
    {
     "name": "stdout",
     "output_type": "stream",
     "text": [
      "--------------------------PIPELINE--------------------------\n",
      "Fitting 5 folds for each of 144 candidates, totalling 720 fits\n",
      "{'score': 0.9846153846153847, 'param': {'eval_metric': 'error', 'learning_rate': 0.1, 'max_depth': 2, 'n_estimators': 50, 'random_state': 48}}\n",
      "----------------------CONFUSION MATRIX----------------------\n"
     ]
    },
    {
     "data": {
      "image/png": "[encoded data removed]",
      "text/plain": [
       "<Figure size 432x432 with 1 Axes>"
      ]
     },
     "metadata": {},
     "output_type": "display_data"
    },
    {
     "name": "stdout",
     "output_type": "stream",
     "text": [
      "-------------------CLASSIFICATION REPORT--------------------\n",
      "              precision    recall  f1-score   support\n",
      "\n",
      "           0       0.86      1.00      0.93        19\n",
      "           1       1.00      0.90      0.95        30\n",
      "\n",
      "    accuracy                           0.94        49\n",
      "   macro avg       0.93      0.95      0.94        49\n",
      "weighted avg       0.95      0.94      0.94        49\n",
      "\n"
     ]
    }
   ],
   "source": [
    "xg_boost_param = {\n",
    "    \"n_estimators\": [50, 100, 150, 200],\n",
    "    \"max_depth\": [2, 4, 6],\n",
    "    \"learning_rate\": [0.1, 0.3, 0.5, 0.8, 1, 1.2],\n",
    "    \"eval_metric\": [\"error\"],\n",
    "    \"random_state\": [48, 64],\n",
    "}\n",
    "xg_boost_classifier = ModelEvaluate(XGBClassifier(), \"xg boost classification\")\n",
    "xg_boost_classifier.initialize_gscv(xg_boost_param)\n",
    "xg_boost_classifier.initialize_pipeline()\n",
    "print(\"PIPELINE\".center(60, \"-\"))\n",
    "print(xg_boost_classifier.fit_pipeline(X_train, y_train))\n",
    "xg_boost_classifier.get_cm(X_test, y_test)\n",
    "print(\"CONFUSION MATRIX\".center(60, \"-\"))\n",
    "plt.show()\n",
    "print(\"CLASSIFICATION REPORT\".center(60, \"-\"))\n",
    "print(xg_boost_classifier.get_model_report(X_test, y_test))\n"
   ]
  },
  {
   "cell_type": "markdown",
   "metadata": {},
   "source": [
    "## CATBoost\n"
   ]
  },
  {
   "cell_type": "code",
   "execution_count": 19,
   "metadata": {},
   "outputs": [
    {
     "name": "stdout",
     "output_type": "stream",
     "text": [
      "--------------------------PIPELINE--------------------------\n",
      "Fitting 5 folds for each of 90 candidates, totalling 450 fits\n",
      "{'score': 0.9846153846153847, 'param': {'depth': 2, 'iterations': 150, 'learning_rate': 0.1, 'random_seed': 48, 'verbose': False}}\n",
      "----------------------CONFUSION MATRIX----------------------\n"
     ]
    },
    {
     "data": {
      "image/png": "[encoded data removed]",
      "text/plain": [
       "<Figure size 432x432 with 1 Axes>"
      ]
     },
     "metadata": {},
     "output_type": "display_data"
    },
    {
     "name": "stdout",
     "output_type": "stream",
     "text": [
      "-------------------CLASSIFICATION REPORT--------------------\n",
      "              precision    recall  f1-score   support\n",
      "\n",
      "           0       0.91      1.00      0.95        20\n",
      "           1       1.00      0.93      0.96        29\n",
      "\n",
      "    accuracy                           0.96        49\n",
      "   macro avg       0.95      0.97      0.96        49\n",
      "weighted avg       0.96      0.96      0.96        49\n",
      "\n"
     ]
    }
   ],
   "source": [
    "cat_boost_param = {\n",
    "    \"iterations\": [150, 300, 500],\n",
    "    \"learning_rate\": [0.1, 0.3, 0.5, 0.8, 1],\n",
    "    \"depth\": [2, 4, 6],\n",
    "    \"random_seed\": [48, 64],\n",
    "    \"verbose\": [False],\n",
    "}  # has sklearn synonyms of parameter\n",
    "cat_boost_classifier = ModelEvaluate(CatBoostClassifier(), \"cat boost classification\")\n",
    "cat_boost_classifier.initialize_gscv(cat_boost_param)\n",
    "cat_boost_classifier.initialize_pipeline()\n",
    "print(\"PIPELINE\".center(60, \"-\"))\n",
    "print(cat_boost_classifier.fit_pipeline(X_train, y_train))\n",
    "cat_boost_classifier.get_cm(X_test, y_test)\n",
    "print(\"CONFUSION MATRIX\".center(60, \"-\"))\n",
    "plt.show()\n",
    "print(\"CLASSIFICATION REPORT\".center(60, \"-\"))\n",
    "print(cat_boost_classifier.get_model_report(X_test, y_test))\n"
   ]
  },
  {
   "cell_type": "markdown",
   "metadata": {},
   "source": [
    "# Model Report\n"
   ]
  },
  {
   "cell_type": "code",
   "execution_count": 20,
   "metadata": {},
   "outputs": [
    {
     "data": {
      "text/html": [
       "<div>\n",
       "<style scoped>\n",
       "    .dataframe tbody tr th:only-of-type {\n",
       "        vertical-align: middle;\n",
       "    }\n",
       "\n",
       "    .dataframe tbody tr th {\n",
       "        vertical-align: top;\n",
       "    }\n",
       "\n",
       "    .dataframe thead th {\n",
       "        text-align: right;\n",
       "    }\n",
       "</style>\n",
       "<table border=\"1\" class=\"dataframe\">\n",
       "  <thead>\n",
       "    <tr style=\"text-align: right;\">\n",
       "      <th></th>\n",
       "      <th>Model Name</th>\n",
       "      <th>Training Score (accuracy)</th>\n",
       "      <th>Testing Recall</th>\n",
       "      <th>Testing Accuracy</th>\n",
       "    </tr>\n",
       "  </thead>\n",
       "  <tbody>\n",
       "    <tr>\n",
       "      <th>0</th>\n",
       "      <td>logistic classification</td>\n",
       "      <td>0.969231</td>\n",
       "      <td>1.000000</td>\n",
       "      <td>0.877551</td>\n",
       "    </tr>\n",
       "    <tr>\n",
       "      <th>1</th>\n",
       "      <td>knn classification</td>\n",
       "      <td>0.933333</td>\n",
       "      <td>1.000000</td>\n",
       "      <td>0.836735</td>\n",
       "    </tr>\n",
       "    <tr>\n",
       "      <th>2</th>\n",
       "      <td>scv classification</td>\n",
       "      <td>0.953846</td>\n",
       "      <td>1.000000</td>\n",
       "      <td>0.877551</td>\n",
       "    </tr>\n",
       "    <tr>\n",
       "      <th>3</th>\n",
       "      <td>naive bayes classification</td>\n",
       "      <td>0.779487</td>\n",
       "      <td>0.851852</td>\n",
       "      <td>0.816327</td>\n",
       "    </tr>\n",
       "    <tr>\n",
       "      <th>4</th>\n",
       "      <td>decision tree classification</td>\n",
       "      <td>0.989744</td>\n",
       "      <td>1.000000</td>\n",
       "      <td>0.959184</td>\n",
       "    </tr>\n",
       "    <tr>\n",
       "      <th>5</th>\n",
       "      <td>random forest classification</td>\n",
       "      <td>0.989744</td>\n",
       "      <td>1.000000</td>\n",
       "      <td>0.918367</td>\n",
       "    </tr>\n",
       "    <tr>\n",
       "      <th>6</th>\n",
       "      <td>ada boost classification</td>\n",
       "      <td>0.979487</td>\n",
       "      <td>1.000000</td>\n",
       "      <td>0.959184</td>\n",
       "    </tr>\n",
       "    <tr>\n",
       "      <th>7</th>\n",
       "      <td>xg boost classification</td>\n",
       "      <td>0.984615</td>\n",
       "      <td>1.000000</td>\n",
       "      <td>0.938776</td>\n",
       "    </tr>\n",
       "    <tr>\n",
       "      <th>8</th>\n",
       "      <td>cat boost classification</td>\n",
       "      <td>0.984615</td>\n",
       "      <td>1.000000</td>\n",
       "      <td>0.959184</td>\n",
       "    </tr>\n",
       "  </tbody>\n",
       "</table>\n",
       "</div>"
      ],
      "text/plain": [
       "                     Model Name  Training Score (accuracy)  Testing Recall  \\\n",
       "0       logistic classification                   0.969231        1.000000   \n",
       "1            knn classification                   0.933333        1.000000   \n",
       "2            scv classification                   0.953846        1.000000   \n",
       "3    naive bayes classification                   0.779487        0.851852   \n",
       "4  decision tree classification                   0.989744        1.000000   \n",
       "5  random forest classification                   0.989744        1.000000   \n",
       "6      ada boost classification                   0.979487        1.000000   \n",
       "7       xg boost classification                   0.984615        1.000000   \n",
       "8      cat boost classification                   0.984615        1.000000   \n",
       "\n",
       "   Testing Accuracy  \n",
       "0          0.877551  \n",
       "1          0.836735  \n",
       "2          0.877551  \n",
       "3          0.816327  \n",
       "4          0.959184  \n",
       "5          0.918367  \n",
       "6          0.959184  \n",
       "7          0.938776  \n",
       "8          0.959184  "
      ]
     },
     "execution_count": 20,
     "metadata": {},
     "output_type": "execute_result"
    }
   ],
   "source": [
    "model_report = ModelEvaluate.get_models_report()\n",
    "model_report\n"
   ]
  },
  {
   "cell_type": "code",
   "execution_count": 21,
   "metadata": {},
   "outputs": [
    {
     "data": {
      "text/html": [
       "<div>\n",
       "<style scoped>\n",
       "    .dataframe tbody tr th:only-of-type {\n",
       "        vertical-align: middle;\n",
       "    }\n",
       "\n",
       "    .dataframe tbody tr th {\n",
       "        vertical-align: top;\n",
       "    }\n",
       "\n",
       "    .dataframe thead th {\n",
       "        text-align: right;\n",
       "    }\n",
       "</style>\n",
       "<table border=\"1\" class=\"dataframe\">\n",
       "  <thead>\n",
       "    <tr style=\"text-align: right;\">\n",
       "      <th></th>\n",
       "      <th>Model Name</th>\n",
       "      <th>Training Score (accuracy)</th>\n",
       "      <th>Testing Recall</th>\n",
       "      <th>Testing Accuracy</th>\n",
       "    </tr>\n",
       "  </thead>\n",
       "  <tbody>\n",
       "    <tr>\n",
       "      <th>4</th>\n",
       "      <td>decision tree classification</td>\n",
       "      <td>0.989744</td>\n",
       "      <td>1.000000</td>\n",
       "      <td>0.959184</td>\n",
       "    </tr>\n",
       "    <tr>\n",
       "      <th>8</th>\n",
       "      <td>cat boost classification</td>\n",
       "      <td>0.984615</td>\n",
       "      <td>1.000000</td>\n",
       "      <td>0.959184</td>\n",
       "    </tr>\n",
       "    <tr>\n",
       "      <th>6</th>\n",
       "      <td>ada boost classification</td>\n",
       "      <td>0.979487</td>\n",
       "      <td>1.000000</td>\n",
       "      <td>0.959184</td>\n",
       "    </tr>\n",
       "    <tr>\n",
       "      <th>7</th>\n",
       "      <td>xg boost classification</td>\n",
       "      <td>0.984615</td>\n",
       "      <td>1.000000</td>\n",
       "      <td>0.938776</td>\n",
       "    </tr>\n",
       "    <tr>\n",
       "      <th>5</th>\n",
       "      <td>random forest classification</td>\n",
       "      <td>0.989744</td>\n",
       "      <td>1.000000</td>\n",
       "      <td>0.918367</td>\n",
       "    </tr>\n",
       "    <tr>\n",
       "      <th>0</th>\n",
       "      <td>logistic classification</td>\n",
       "      <td>0.969231</td>\n",
       "      <td>1.000000</td>\n",
       "      <td>0.877551</td>\n",
       "    </tr>\n",
       "    <tr>\n",
       "      <th>2</th>\n",
       "      <td>scv classification</td>\n",
       "      <td>0.953846</td>\n",
       "      <td>1.000000</td>\n",
       "      <td>0.877551</td>\n",
       "    </tr>\n",
       "    <tr>\n",
       "      <th>1</th>\n",
       "      <td>knn classification</td>\n",
       "      <td>0.933333</td>\n",
       "      <td>1.000000</td>\n",
       "      <td>0.836735</td>\n",
       "    </tr>\n",
       "    <tr>\n",
       "      <th>3</th>\n",
       "      <td>naive bayes classification</td>\n",
       "      <td>0.779487</td>\n",
       "      <td>0.851852</td>\n",
       "      <td>0.816327</td>\n",
       "    </tr>\n",
       "  </tbody>\n",
       "</table>\n",
       "</div>"
      ],
      "text/plain": [
       "                     Model Name  Training Score (accuracy)  Testing Recall  \\\n",
       "4  decision tree classification                   0.989744        1.000000   \n",
       "8      cat boost classification                   0.984615        1.000000   \n",
       "6      ada boost classification                   0.979487        1.000000   \n",
       "7       xg boost classification                   0.984615        1.000000   \n",
       "5  random forest classification                   0.989744        1.000000   \n",
       "0       logistic classification                   0.969231        1.000000   \n",
       "2            scv classification                   0.953846        1.000000   \n",
       "1            knn classification                   0.933333        1.000000   \n",
       "3    naive bayes classification                   0.779487        0.851852   \n",
       "\n",
       "   Testing Accuracy  \n",
       "4          0.959184  \n",
       "8          0.959184  \n",
       "6          0.959184  \n",
       "7          0.938776  \n",
       "5          0.918367  \n",
       "0          0.877551  \n",
       "2          0.877551  \n",
       "1          0.836735  \n",
       "3          0.816327  "
      ]
     },
     "execution_count": 21,
     "metadata": {},
     "output_type": "execute_result"
    }
   ],
   "source": [
    "model_report.sort_values([model_report.columns[2], model_report.columns[3], model_report.columns[1]], ascending=False)\n"
   ]
  },
  {
   "cell_type": "markdown",
   "metadata": {},
   "source": [
    "OBSERVATION\n",
    "\n",
    "- Decision Tree is the Best model according to metrics.\n",
    "- CATBoost is 2nd Best model.\n",
    "- Going with CATBoost as Difference between Testing and Training accuracy is less.\n",
    "- Mathematically CATBoost suits more than Decision Tree.\n"
   ]
  },
  {
   "cell_type": "markdown",
   "metadata": {},
   "source": [
    "# Top Model (CATBoost)\n"
   ]
  },
  {
   "cell_type": "code",
   "execution_count": 22,
   "metadata": {},
   "outputs": [
    {
     "data": {
      "text/plain": [
       "{'depth': 2,\n",
       " 'iterations': 150,\n",
       " 'learning_rate': 0.1,\n",
       " 'random_seed': 48,\n",
       " 'verbose': False}"
      ]
     },
     "execution_count": 22,
     "metadata": {},
     "output_type": "execute_result"
    }
   ],
   "source": [
    "cat_boost_classifier.get_best()[\"param\"]\n"
   ]
  },
  {
   "cell_type": "code",
   "execution_count": 54,
   "metadata": {},
   "outputs": [
    {
     "data": {
      "text/plain": [
       "array([[8, 'Jun', 30, ..., 38.3, 5.6, 'Bejaia'],\n",
       "       [13, 'Aug', 35, ..., 85.1, 5.9, 'Bejaia'],\n",
       "       [14, 'Jul', 37, ..., 14.6, 9.0, 'Sidi-Bel Abbes'],\n",
       "       ...,\n",
       "       [28, 'Sep', 32, ..., 8.8, 1.8, 'Bejaia'],\n",
       "       [17, 'Sep', 34, ..., 63.3, 11.2, 'Sidi-Bel Abbes'],\n",
       "       [14, 'Aug', 37, ..., 55.5, 10.8, 'Sidi-Bel Abbes']], dtype=object)"
      ]
     },
     "execution_count": 54,
     "metadata": {},
     "output_type": "execute_result"
    }
   ],
   "source": [
    "X_train.values"
   ]
  },
  {
   "cell_type": "code",
   "execution_count": 55,
   "metadata": {},
   "outputs": [
    {
     "data": {
      "text/plain": [
       "array([1, 1, 1, 1, 0, 1, 1, 1, 0, 0, 0, 1, 1, 1, 0, 0, 0, 1, 1, 1, 1, 1,\n",
       "       0, 1, 0, 0, 0, 1, 1, 1, 1, 1, 1, 1, 0, 1, 0, 0, 1, 1, 1, 1, 0, 1,\n",
       "       0, 0, 0, 1, 0, 0, 1, 0, 1, 1, 0, 0, 0, 0, 0, 1, 1, 1, 0, 0, 1, 1,\n",
       "       1, 1, 0, 0, 0, 1, 1, 0, 1, 1, 0, 0, 1, 1, 1, 0, 1, 0, 0, 0, 1, 0,\n",
       "       1, 0, 1, 0, 0, 0, 1, 1, 0, 1, 0, 0, 1, 1, 0, 0, 1, 1, 0, 1, 1, 1,\n",
       "       1, 1, 1, 0, 1, 1, 0, 0, 1, 0, 0, 0, 0, 1, 1, 0, 1, 0, 1, 1, 1, 1,\n",
       "       0, 1, 0, 0, 1, 1, 1, 0, 1, 1, 0, 1, 0, 0, 1, 1, 1, 0, 1, 1, 0, 1,\n",
       "       0, 0, 1, 1, 1, 0, 1, 1, 1, 1, 1, 1, 0, 0, 1, 1, 0, 0, 0, 1, 1, 1,\n",
       "       0, 1, 0, 0, 1, 0, 1, 1, 0, 0, 0, 1, 1, 0, 1, 1, 0, 1, 1],\n",
       "      dtype=int64)"
      ]
     },
     "execution_count": 55,
     "metadata": {},
     "output_type": "execute_result"
    }
   ],
   "source": [
    "y_train.values"
   ]
  },
  {
   "cell_type": "code",
   "execution_count": 76,
   "metadata": {},
   "outputs": [
    {
     "data": {
      "text/plain": [
       "1.0"
      ]
     },
     "execution_count": 76,
     "metadata": {},
     "output_type": "execute_result"
    }
   ],
   "source": [
    "final_pipe = Pipeline(\n",
    "    steps=[\n",
    "        (\"transformers\", transformer),\n",
    "        (\"cat_boost\", CatBoostClassifier(depth=2, iterations=150, learning_rate=0.1, random_seed=48, verbose=False)),\n",
    "    ]\n",
    ")\n",
    "final_pipe.fit(X_train.values, y_train.values)\n",
    "final_pipe.score(X_train.values, y_train.values)\n"
   ]
  },
  {
   "cell_type": "markdown",
   "metadata": {},
   "source": [
    "## Metrics\n"
   ]
  },
  {
   "cell_type": "code",
   "execution_count": 75,
   "metadata": {},
   "outputs": [
    {
     "name": "stdout",
     "output_type": "stream",
     "text": [
      "              precision    recall  f1-score   support\n",
      "\n",
      "           0       1.00      0.91      0.95        22\n",
      "           1       0.93      1.00      0.96        27\n",
      "\n",
      "    accuracy                           0.96        49\n",
      "   macro avg       0.97      0.95      0.96        49\n",
      "weighted avg       0.96      0.96      0.96        49\n",
      "\n"
     ]
    }
   ],
   "source": [
    "y_pred = final_pipe.predict(X_test.values)\n",
    "print(classification_report(y_test.values, y_pred))\n"
   ]
  },
  {
   "cell_type": "code",
   "execution_count": 59,
   "metadata": {},
   "outputs": [
    {
     "data": {
      "text/plain": [
       "Text(8.499999999999996, 0.5, 'Actual Values')"
      ]
     },
     "execution_count": 59,
     "metadata": {},
     "output_type": "execute_result"
    },
    {
     "data": {
      "image/png": "[encoded data removed]",
      "text/plain": [
       "<Figure size 288x288 with 1 Axes>"
      ]
     },
     "metadata": {},
     "output_type": "display_data"
    }
   ],
   "source": [
    "fig, ax = plt.subplots(1, 1, figsize=(4, 4))\n",
    "fig.suptitle(f\"Confusion Matrix\")\n",
    "cm_plot = sns.heatmap(\n",
    "    confusion_matrix(y_test, y_pred),\n",
    "    ax=ax,\n",
    "    cbar=False,\n",
    "    cmap=\"YlOrRd\",\n",
    "    annot=True,\n",
    "    xticklabels=[\"not fire\", \"fire\"],\n",
    "    yticklabels=[\"not fire\", \"fire\"],\n",
    ")\n",
    "ax.set_xlabel(\"Predicted Values\")\n",
    "ax.set_ylabel(\"Actual Values\")\n"
   ]
  },
  {
   "cell_type": "markdown",
   "metadata": {},
   "source": [
    "## ROC & AUROC\n"
   ]
  },
  {
   "cell_type": "code",
   "execution_count": 71,
   "metadata": {},
   "outputs": [],
   "source": [
    "y_pred_proba = final_pipe.predict_proba(X_test)[:, 1]\n",
    "fpr, tpr, threshold = roc_curve(y_test.values, y_pred_proba)\n",
    "auroc = roc_auc_score(y_test.values, y_pred_proba)\n"
   ]
  },
  {
   "cell_type": "markdown",
   "metadata": {},
   "source": [
    "## Decision Tree\n"
   ]
  },
  {
   "cell_type": "code",
   "execution_count": 72,
   "metadata": {},
   "outputs": [
    {
     "data": {
      "text/html": [
       "<style>#sk-container-id-5 {color: black;background-color: white;}#sk-container-id-5 pre{padding: 0;}#sk-container-id-5 div.sk-toggleable {background-color: white;}#sk-container-id-5 label.sk-toggleable__label {cursor: pointer;display: block;width: 100%;margin-bottom: 0;padding: 0.3em;box-sizing: border-box;text-align: center;}#sk-container-id-5 label.sk-toggleable__label-arrow:before {content: \"▸\";float: left;margin-right: 0.25em;color: #696969;}#sk-container-id-5 label.sk-toggleable__label-arrow:hover:before {color: black;}#sk-container-id-5 div.sk-estimator:hover label.sk-toggleable__label-arrow:before {color: black;}#sk-container-id-5 div.sk-toggleable__content {max-height: 0;max-width: 0;overflow: hidden;text-align: left;background-color: #f0f8ff;}#sk-container-id-5 div.sk-toggleable__content pre {margin: 0.2em;color: black;border-radius: 0.25em;background-color: #f0f8ff;}#sk-container-id-5 input.sk-toggleable__control:checked~div.sk-toggleable__content {max-height: 200px;max-width: 100%;overflow: auto;}#sk-container-id-5 input.sk-toggleable__control:checked~label.sk-toggleable__label-arrow:before {content: \"▾\";}#sk-container-id-5 div.sk-estimator input.sk-toggleable__control:checked~label.sk-toggleable__label {background-color: #d4ebff;}#sk-container-id-5 div.sk-label input.sk-toggleable__control:checked~label.sk-toggleable__label {background-color: #d4ebff;}#sk-container-id-5 input.sk-hidden--visually {border: 0;clip: rect(1px 1px 1px 1px);clip: rect(1px, 1px, 1px, 1px);height: 1px;margin: -1px;overflow: hidden;padding: 0;position: absolute;width: 1px;}#sk-container-id-5 div.sk-estimator {font-family: monospace;background-color: #f0f8ff;border: 1px dotted black;border-radius: 0.25em;box-sizing: border-box;margin-bottom: 0.5em;}#sk-container-id-5 div.sk-estimator:hover {background-color: #d4ebff;}#sk-container-id-5 div.sk-parallel-item::after {content: \"\";width: 100%;border-bottom: 1px solid gray;flex-grow: 1;}#sk-container-id-5 div.sk-label:hover label.sk-toggleable__label {background-color: #d4ebff;}#sk-container-id-5 div.sk-serial::before {content: \"\";position: absolute;border-left: 1px solid gray;box-sizing: border-box;top: 0;bottom: 0;left: 50%;z-index: 0;}#sk-container-id-5 div.sk-serial {display: flex;flex-direction: column;align-items: center;background-color: white;padding-right: 0.2em;padding-left: 0.2em;position: relative;}#sk-container-id-5 div.sk-item {position: relative;z-index: 1;}#sk-container-id-5 div.sk-parallel {display: flex;align-items: stretch;justify-content: center;background-color: white;position: relative;}#sk-container-id-5 div.sk-item::before, #sk-container-id-5 div.sk-parallel-item::before {content: \"\";position: absolute;border-left: 1px solid gray;box-sizing: border-box;top: 0;bottom: 0;left: 50%;z-index: -1;}#sk-container-id-5 div.sk-parallel-item {display: flex;flex-direction: column;z-index: 1;position: relative;background-color: white;}#sk-container-id-5 div.sk-parallel-item:first-child::after {align-self: flex-end;width: 50%;}#sk-container-id-5 div.sk-parallel-item:last-child::after {align-self: flex-start;width: 50%;}#sk-container-id-5 div.sk-parallel-item:only-child::after {width: 0;}#sk-container-id-5 div.sk-dashed-wrapped {border: 1px dashed gray;margin: 0 0.4em 0.5em 0.4em;box-sizing: border-box;padding-bottom: 0.4em;background-color: white;}#sk-container-id-5 div.sk-label label {font-family: monospace;font-weight: bold;display: inline-block;line-height: 1.2em;}#sk-container-id-5 div.sk-label-container {text-align: center;}#sk-container-id-5 div.sk-container {/* jupyter's `normalize.less` sets `[hidden] { display: none; }` but bootstrap.min.css set `[hidden] { display: none !important; }` so we also need the `!important` here to be able to override the default hidden behavior on the sphinx rendered scikit-learn.org. See: https://github.com/scikit-learn/scikit-learn/issues/21755 */display: inline-block !important;position: relative;}#sk-container-id-5 div.sk-text-repr-fallback {display: none;}</style><div id=\"sk-container-id-5\" class=\"sk-top-container\"><div class=\"sk-text-repr-fallback\"><pre>Pipeline(steps=[(&#x27;transformer&#x27;,\n",
       "                 ColumnTransformer(remainder=&#x27;passthrough&#x27;,\n",
       "                                   transformers=[(&#x27;robust_scaler&#x27;,\n",
       "                                                  RobustScaler(),\n",
       "                                                  [2, 3, 4, 5, 6, 7, 8, 9]),\n",
       "                                                 (&#x27;ohe_day&#x27;,\n",
       "                                                  OneHotEncoder(drop=&#x27;first&#x27;,\n",
       "                                                                sparse=False),\n",
       "                                                  [0]),\n",
       "                                                 (&#x27;ord_month&#x27;,\n",
       "                                                  OrdinalEncoder(categories=[[&#x27;Sep&#x27;,\n",
       "                                                                              &#x27;Jun&#x27;,\n",
       "                                                                              &#x27;Jul&#x27;,\n",
       "                                                                              &#x27;Aug&#x27;]]),\n",
       "                                                  [1]),\n",
       "                                                 (&#x27;ohe_binary&#x27;,\n",
       "                                                  OneHotEncoder(drop=&#x27;if_binary&#x27;,\n",
       "                                                                sparse=False),\n",
       "                                                  [-1])])),\n",
       "                (&#x27;decision_tree&#x27;,\n",
       "                 DecisionTreeClassifier(max_features=&#x27;sqrt&#x27;, random_state=48))])</pre><b>In a Jupyter environment, please rerun this cell to show the HTML representation or trust the notebook. <br />On GitHub, the HTML representation is unable to render, please try loading this page with nbviewer.org.</b></div><div class=\"sk-container\" hidden><div class=\"sk-item sk-dashed-wrapped\"><div class=\"sk-label-container\"><div class=\"sk-label sk-toggleable\"><input class=\"sk-toggleable__control sk-hidden--visually\" id=\"sk-estimator-id-53\" type=\"checkbox\" ><label for=\"sk-estimator-id-53\" class=\"sk-toggleable__label sk-toggleable__label-arrow\">Pipeline</label><div class=\"sk-toggleable__content\"><pre>Pipeline(steps=[(&#x27;transformer&#x27;,\n",
       "                 ColumnTransformer(remainder=&#x27;passthrough&#x27;,\n",
       "                                   transformers=[(&#x27;robust_scaler&#x27;,\n",
       "                                                  RobustScaler(),\n",
       "                                                  [2, 3, 4, 5, 6, 7, 8, 9]),\n",
       "                                                 (&#x27;ohe_day&#x27;,\n",
       "                                                  OneHotEncoder(drop=&#x27;first&#x27;,\n",
       "                                                                sparse=False),\n",
       "                                                  [0]),\n",
       "                                                 (&#x27;ord_month&#x27;,\n",
       "                                                  OrdinalEncoder(categories=[[&#x27;Sep&#x27;,\n",
       "                                                                              &#x27;Jun&#x27;,\n",
       "                                                                              &#x27;Jul&#x27;,\n",
       "                                                                              &#x27;Aug&#x27;]]),\n",
       "                                                  [1]),\n",
       "                                                 (&#x27;ohe_binary&#x27;,\n",
       "                                                  OneHotEncoder(drop=&#x27;if_binary&#x27;,\n",
       "                                                                sparse=False),\n",
       "                                                  [-1])])),\n",
       "                (&#x27;decision_tree&#x27;,\n",
       "                 DecisionTreeClassifier(max_features=&#x27;sqrt&#x27;, random_state=48))])</pre></div></div></div><div class=\"sk-serial\"><div class=\"sk-item sk-dashed-wrapped\"><div class=\"sk-label-container\"><div class=\"sk-label sk-toggleable\"><input class=\"sk-toggleable__control sk-hidden--visually\" id=\"sk-estimator-id-54\" type=\"checkbox\" ><label for=\"sk-estimator-id-54\" class=\"sk-toggleable__label sk-toggleable__label-arrow\">transformer: ColumnTransformer</label><div class=\"sk-toggleable__content\"><pre>ColumnTransformer(remainder=&#x27;passthrough&#x27;,\n",
       "                  transformers=[(&#x27;robust_scaler&#x27;, RobustScaler(),\n",
       "                                 [2, 3, 4, 5, 6, 7, 8, 9]),\n",
       "                                (&#x27;ohe_day&#x27;,\n",
       "                                 OneHotEncoder(drop=&#x27;first&#x27;, sparse=False),\n",
       "                                 [0]),\n",
       "                                (&#x27;ord_month&#x27;,\n",
       "                                 OrdinalEncoder(categories=[[&#x27;Sep&#x27;, &#x27;Jun&#x27;,\n",
       "                                                             &#x27;Jul&#x27;, &#x27;Aug&#x27;]]),\n",
       "                                 [1]),\n",
       "                                (&#x27;ohe_binary&#x27;,\n",
       "                                 OneHotEncoder(drop=&#x27;if_binary&#x27;, sparse=False),\n",
       "                                 [-1])])</pre></div></div></div><div class=\"sk-parallel\"><div class=\"sk-parallel-item\"><div class=\"sk-item\"><div class=\"sk-label-container\"><div class=\"sk-label sk-toggleable\"><input class=\"sk-toggleable__control sk-hidden--visually\" id=\"sk-estimator-id-55\" type=\"checkbox\" ><label for=\"sk-estimator-id-55\" class=\"sk-toggleable__label sk-toggleable__label-arrow\">robust_scaler</label><div class=\"sk-toggleable__content\"><pre>[2, 3, 4, 5, 6, 7, 8, 9]</pre></div></div></div><div class=\"sk-serial\"><div class=\"sk-item\"><div class=\"sk-estimator sk-toggleable\"><input class=\"sk-toggleable__control sk-hidden--visually\" id=\"sk-estimator-id-56\" type=\"checkbox\" ><label for=\"sk-estimator-id-56\" class=\"sk-toggleable__label sk-toggleable__label-arrow\">RobustScaler</label><div class=\"sk-toggleable__content\"><pre>RobustScaler()</pre></div></div></div></div></div></div><div class=\"sk-parallel-item\"><div class=\"sk-item\"><div class=\"sk-label-container\"><div class=\"sk-label sk-toggleable\"><input class=\"sk-toggleable__control sk-hidden--visually\" id=\"sk-estimator-id-57\" type=\"checkbox\" ><label for=\"sk-estimator-id-57\" class=\"sk-toggleable__label sk-toggleable__label-arrow\">ohe_day</label><div class=\"sk-toggleable__content\"><pre>[0]</pre></div></div></div><div class=\"sk-serial\"><div class=\"sk-item\"><div class=\"sk-estimator sk-toggleable\"><input class=\"sk-toggleable__control sk-hidden--visually\" id=\"sk-estimator-id-58\" type=\"checkbox\" ><label for=\"sk-estimator-id-58\" class=\"sk-toggleable__label sk-toggleable__label-arrow\">OneHotEncoder</label><div class=\"sk-toggleable__content\"><pre>OneHotEncoder(drop=&#x27;first&#x27;, sparse=False)</pre></div></div></div></div></div></div><div class=\"sk-parallel-item\"><div class=\"sk-item\"><div class=\"sk-label-container\"><div class=\"sk-label sk-toggleable\"><input class=\"sk-toggleable__control sk-hidden--visually\" id=\"sk-estimator-id-59\" type=\"checkbox\" ><label for=\"sk-estimator-id-59\" class=\"sk-toggleable__label sk-toggleable__label-arrow\">ord_month</label><div class=\"sk-toggleable__content\"><pre>[1]</pre></div></div></div><div class=\"sk-serial\"><div class=\"sk-item\"><div class=\"sk-estimator sk-toggleable\"><input class=\"sk-toggleable__control sk-hidden--visually\" id=\"sk-estimator-id-60\" type=\"checkbox\" ><label for=\"sk-estimator-id-60\" class=\"sk-toggleable__label sk-toggleable__label-arrow\">OrdinalEncoder</label><div class=\"sk-toggleable__content\"><pre>OrdinalEncoder(categories=[[&#x27;Sep&#x27;, &#x27;Jun&#x27;, &#x27;Jul&#x27;, &#x27;Aug&#x27;]])</pre></div></div></div></div></div></div><div class=\"sk-parallel-item\"><div class=\"sk-item\"><div class=\"sk-label-container\"><div class=\"sk-label sk-toggleable\"><input class=\"sk-toggleable__control sk-hidden--visually\" id=\"sk-estimator-id-61\" type=\"checkbox\" ><label for=\"sk-estimator-id-61\" class=\"sk-toggleable__label sk-toggleable__label-arrow\">ohe_binary</label><div class=\"sk-toggleable__content\"><pre>[-1]</pre></div></div></div><div class=\"sk-serial\"><div class=\"sk-item\"><div class=\"sk-estimator sk-toggleable\"><input class=\"sk-toggleable__control sk-hidden--visually\" id=\"sk-estimator-id-62\" type=\"checkbox\" ><label for=\"sk-estimator-id-62\" class=\"sk-toggleable__label sk-toggleable__label-arrow\">OneHotEncoder</label><div class=\"sk-toggleable__content\"><pre>OneHotEncoder(drop=&#x27;if_binary&#x27;, sparse=False)</pre></div></div></div></div></div></div><div class=\"sk-parallel-item\"><div class=\"sk-item\"><div class=\"sk-label-container\"><div class=\"sk-label sk-toggleable\"><input class=\"sk-toggleable__control sk-hidden--visually\" id=\"sk-estimator-id-63\" type=\"checkbox\" ><label for=\"sk-estimator-id-63\" class=\"sk-toggleable__label sk-toggleable__label-arrow\">remainder</label><div class=\"sk-toggleable__content\"><pre>[]</pre></div></div></div><div class=\"sk-serial\"><div class=\"sk-item\"><div class=\"sk-estimator sk-toggleable\"><input class=\"sk-toggleable__control sk-hidden--visually\" id=\"sk-estimator-id-64\" type=\"checkbox\" ><label for=\"sk-estimator-id-64\" class=\"sk-toggleable__label sk-toggleable__label-arrow\">passthrough</label><div class=\"sk-toggleable__content\"><pre>passthrough</pre></div></div></div></div></div></div></div></div><div class=\"sk-item\"><div class=\"sk-estimator sk-toggleable\"><input class=\"sk-toggleable__control sk-hidden--visually\" id=\"sk-estimator-id-65\" type=\"checkbox\" ><label for=\"sk-estimator-id-65\" class=\"sk-toggleable__label sk-toggleable__label-arrow\">DecisionTreeClassifier</label><div class=\"sk-toggleable__content\"><pre>DecisionTreeClassifier(max_features=&#x27;sqrt&#x27;, random_state=48)</pre></div></div></div></div></div></div></div>"
      ],
      "text/plain": [
       "Pipeline(steps=[('transformer',\n",
       "                 ColumnTransformer(remainder='passthrough',\n",
       "                                   transformers=[('robust_scaler',\n",
       "                                                  RobustScaler(),\n",
       "                                                  [2, 3, 4, 5, 6, 7, 8, 9]),\n",
       "                                                 ('ohe_day',\n",
       "                                                  OneHotEncoder(drop='first',\n",
       "                                                                sparse=False),\n",
       "                                                  [0]),\n",
       "                                                 ('ord_month',\n",
       "                                                  OrdinalEncoder(categories=[['Sep',\n",
       "                                                                              'Jun',\n",
       "                                                                              'Jul',\n",
       "                                                                              'Aug']]),\n",
       "                                                  [1]),\n",
       "                                                 ('ohe_binary',\n",
       "                                                  OneHotEncoder(drop='if_binary',\n",
       "                                                                sparse=False),\n",
       "                                                  [-1])])),\n",
       "                ('decision_tree',\n",
       "                 DecisionTreeClassifier(max_features='sqrt', random_state=48))])"
      ]
     },
     "execution_count": 72,
     "metadata": {},
     "output_type": "execute_result"
    }
   ],
   "source": [
    "temp_pipe = Pipeline(\n",
    "    steps=[\n",
    "        (\"transformer\", transformer),\n",
    "        (\"decision_tree\", DecisionTreeClassifier(max_features=\"sqrt\", random_state=48)),\n",
    "    ]\n",
    ")\n",
    "temp_pipe.fit(X_train, y_train)\n"
   ]
  },
  {
   "cell_type": "code",
   "execution_count": 73,
   "metadata": {},
   "outputs": [],
   "source": [
    "y_pred_dt_proba = temp_pipe.predict_proba(X_test)[:, 1]\n",
    "fpr_dt, tpr_dt, threshold_dt = roc_curve(y_test, y_pred_dt_proba)\n",
    "auroc_dt = roc_auc_score(y_test, y_pred_dt_proba)\n"
   ]
  },
  {
   "cell_type": "markdown",
   "metadata": {},
   "source": [
    "## Graph\n"
   ]
  },
  {
   "cell_type": "code",
   "execution_count": 74,
   "metadata": {},
   "outputs": [
    {
     "data": {
      "image/png": "[encoded data removed]",
      "text/plain": [
       "<Figure size 360x360 with 1 Axes>"
      ]
     },
     "metadata": {},
     "output_type": "display_data"
    }
   ],
   "source": [
    "fig, ax = plt.subplots(1, 1, figsize=(5, 5))\n",
    "ax.plot(fpr, tpr, \"o-\", ms=10, label=f\"CATBoost, AUC: {auroc:.2f}\")\n",
    "ax.plot(fpr_dt, tpr_dt, \"s-\", label=f\"Decision Tree, AUC: {auroc_dt:.2f}\")\n",
    "ax.plot(fpr, fpr, \"g--\", label=\"50%\")\n",
    "ax.set_xlabel(\"False Positive Rate\")\n",
    "ax.set_ylabel(\"True Positive Rate\")\n",
    "ax.set_title(f\"ROC Curve\")\n",
    "ax.legend()\n",
    "plt.show()\n",
    "\n",
    "# print(f\"Threshold CATBoost: {threshold[np.argmax(tpr - fpr)]}\")\n",
    "# print(f\"Threshold Decision Tree: {threshold_dt[np.argmax(tpr_dt - fpr_dt)]}\")"
   ]
  },
  {
   "cell_type": "code",
   "execution_count": 64,
   "metadata": {},
   "outputs": [
    {
     "data": {
      "text/plain": [
       "{'day': 21,\n",
       " 'month': 'Aug',\n",
       " 'Temperature': 36,\n",
       " 'RH': 58,\n",
       " 'Ws': 19,\n",
       " 'Rain': 0.0,\n",
       " 'FFMC': 88.6,\n",
       " 'DMC': 29.6,\n",
       " 'DC': 141.1,\n",
       " 'ISI': 9.2,\n",
       " 'Region': 'Bejaia'}"
      ]
     },
     "execution_count": 64,
     "metadata": {},
     "output_type": "execute_result"
    }
   ],
   "source": [
    "X_test.iloc[0].to_dict()"
   ]
  },
  {
   "cell_type": "code",
   "execution_count": 65,
   "metadata": {},
   "outputs": [],
   "source": [
    "b = {\n",
    "    \"day\": 21,\n",
    "    \"month\": \"Aug\",\n",
    "    \"Temperature\": 36,\n",
    "    \"RH\": 58,\n",
    "    \"Ws\": 19,\n",
    "    \"Rain\": 0.0,\n",
    "    \"FFMC\": 88.6,\n",
    "    \"DMC\": 29.6,\n",
    "    \"DC\": 141.1,\n",
    "    \"ISI\": 9.2,\n",
    "    \"Region\": \"Bejaia\",\n",
    "}\n"
   ]
  },
  {
   "cell_type": "code",
   "execution_count": 66,
   "metadata": {},
   "outputs": [
    {
     "data": {
      "text/plain": [
       "[[21, 'Aug', 36, 58, 19, 0.0, 88.6, 29.6, 141.1, 9.2, 'Bejaia']]"
      ]
     },
     "execution_count": 66,
     "metadata": {},
     "output_type": "execute_result"
    }
   ],
   "source": [
    "x_data=[list(b.values())]\n",
    "x_data"
   ]
  },
  {
   "cell_type": "code",
   "execution_count": 67,
   "metadata": {},
   "outputs": [
    {
     "data": {
      "text/plain": [
       "array([1], dtype=int64)"
      ]
     },
     "execution_count": 67,
     "metadata": {},
     "output_type": "execute_result"
    }
   ],
   "source": [
    "final_pipe.predict(x_data)"
   ]
  },
  {
   "cell_type": "code",
   "execution_count": 68,
   "metadata": {},
   "outputs": [
    {
     "data": {
      "text/plain": [
       "array([1], dtype=int64)"
      ]
     },
     "execution_count": 68,
     "metadata": {},
     "output_type": "execute_result"
    }
   ],
   "source": [
    "final_pipe.predict(X_test.iloc[[0]])"
   ]
  },
  {
   "cell_type": "markdown",
   "metadata": {},
   "source": [
    "# Serializing Model\n"
   ]
  },
  {
   "cell_type": "code",
   "execution_count": 77,
   "metadata": {},
   "outputs": [],
   "source": [
    "import pickle\n",
    "import os\n",
    "\n",
    "if not os.path.isdir(\"./../model\"):\n",
    "    os.mkdir(\"./../model\")\n",
    "\n",
    "with open(\"./../model/classification_pipeline.pkl\", \"wb\") as f:\n",
    "    pickle.dump(final_pipe, f)\n"
   ]
  },
  {
   "cell_type": "markdown",
   "metadata": {},
   "source": [
    "# (ROUGH)\n"
   ]
  },
  {
   "cell_type": "markdown",
   "metadata": {},
   "source": [
    "## Confusion Matrix\n"
   ]
  },
  {
   "cell_type": "code",
   "execution_count": 36,
   "metadata": {},
   "outputs": [],
   "source": [
    "a = [0, 1, 0, 0, 1, 1, 0]\n",
    "b = [0, 1, 0, 1, 0, 0, 0]\n"
   ]
  },
  {
   "cell_type": "code",
   "execution_count": 37,
   "metadata": {},
   "outputs": [
    {
     "data": {
      "text/plain": [
       "array([[3, 1],\n",
       "       [2, 1]], dtype=int64)"
      ]
     },
     "execution_count": 37,
     "metadata": {},
     "output_type": "execute_result"
    }
   ],
   "source": [
    "confusion_matrix(a, b)\n"
   ]
  },
  {
   "cell_type": "code",
   "execution_count": 38,
   "metadata": {},
   "outputs": [
    {
     "data": {
      "text/plain": [
       "(3, 1, 2, 1)"
      ]
     },
     "execution_count": 38,
     "metadata": {},
     "output_type": "execute_result"
    }
   ],
   "source": [
    "tn, fp, fn, tp = confusion_matrix(a, b).ravel()\n",
    "(tn, fp, fn, tp)\n"
   ]
  },
  {
   "cell_type": "markdown",
   "metadata": {},
   "source": [
    "## np.argmin / np.argmax"
   ]
  },
  {
   "cell_type": "code",
   "execution_count": 39,
   "metadata": {},
   "outputs": [
    {
     "data": {
      "text/plain": [
       "(array([ 4,  8, 12]), 2, 0)"
      ]
     },
     "execution_count": 39,
     "metadata": {},
     "output_type": "execute_result"
    }
   ],
   "source": [
    "a=np.array([1,2,3])\n",
    "b=np.array([5,10,15])\n",
    "b-a,np.argmax(b-a),np.argmin(b-a)"
   ]
  }
 ],
 "metadata": {
  "kernelspec": {
   "display_name": "Python 3.8.10 ('fsds')",
   "language": "python",
   "name": "python3"
  },
  "language_info": {
   "codemirror_mode": {
    "name": "ipython",
    "version": 3
   },
   "file_extension": ".py",
   "mimetype": "text/x-python",
   "name": "python",
   "nbconvert_exporter": "python",
   "pygments_lexer": "ipython3",
   "version": "3.8.10"
  },
  "orig_nbformat": 4,
  "vscode": {
   "interpreter": {
    "hash": "20f5f825ba7e1e0138bea706cf7ce76ba178632e6be331b5251920b13e58ac94"
   }
  }
 },
 "nbformat": 4,
 "nbformat_minor": 2
}
